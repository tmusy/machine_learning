{
 "cells": [
  {
   "cell_type": "markdown",
   "metadata": {},
   "source": [
    "# CNN Convolutional Neural Networks"
   ]
  },
  {
   "cell_type": "markdown",
   "metadata": {},
   "source": [
    "CNNs are mainly used to find objects in images. This kind of deep learning net has been develope by [Yann LeCun](http://yann.lecun.com/) and a system called LeNet5 was applied to the MNIST in 1989.\n",
    "\n",
    "## Idea\n",
    "A CNN uses a certain amount of replicated features. This is realized by having features detactors, which shares the same weights per feature. This reduces dramatically the amount of weights in a deep learning net that needs to be trained. A feature detector which identifies a circle in one part of an image can also be used to find a circle in another part of the image.\n",
    "\n",
    "## Popular Architectures\n",
    "* Le Net\n",
    "* Alex Net\n",
    "\n",
    "## Characteristics\n",
    "* Prior knowledge is invused with local connectivity, shared weights and pooling layers\n",
    "* Well applied on image recognition tasks"
   ]
  },
  {
   "cell_type": "markdown",
   "metadata": {},
   "source": [
    "## Videos\n",
    "* [Hinton course on Coursera: 3. Convolutional Nets for Digit Recognition](https://www.youtube.com/watch?v=B1IzLyxE8OY&index=3&list=PLnnr1O8OWc6YLZzLoHzX2q5c2wWMOIUZy)\n",
    "* [Hinton course on Coursera: 4. Convolutional Nets for Object Recognition](https://www.youtube.com/watch?v=0lD9epV2i7M&index=4&list=PLnnr1O8OWc6YLZzLoHzX2q5c2wWMOIUZy)"
   ]
  },
  {
   "cell_type": "code",
   "execution_count": null,
   "metadata": {
    "collapsed": true
   },
   "outputs": [],
   "source": []
  }
 ],
 "metadata": {
  "kernelspec": {
   "display_name": "Python 2",
   "language": "python",
   "name": "python2"
  },
  "language_info": {
   "codemirror_mode": {
    "name": "ipython",
    "version": 2
   },
   "file_extension": ".py",
   "mimetype": "text/x-python",
   "name": "python",
   "nbconvert_exporter": "python",
   "pygments_lexer": "ipython2",
   "version": "2.7.10"
  }
 },
 "nbformat": 4,
 "nbformat_minor": 0
}
