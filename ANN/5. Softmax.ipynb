{
 "cells": [
  {
   "cell_type": "markdown",
   "metadata": {},
   "source": [
    "# 5. Softmax\n",
    "## 5.1. Problems with squared error\n",
    "Error measure is defined as the squared error of all trainig cases.\n",
    "$$ E = \\frac{1}{2} \\sum_{n \\in training} (t^n- x^n)^2 $$\n",
    "\n",
    "- desired output is a 1 but the acutal output of the network is 0.000000001 there is almost no gradient to fix up the error\n",
    "- we know that the classes are mutually exclusive and therefor sum to one, but the network does not know that\n",
    "\n",
    "## 5.2. Definition\n",
    "Softmax is a generalization of the logistic function that \"squashes\" a K-dimensional vector **z** of arbitrary real values to a K-dimensional vector **s(z)** of real values in the range (0, 1) that add up to 1\n",
    "$$ y_i = \\frac{e^{z_i}}{\\sum_{j \\in group} e^{z_j}} $$\n",
    "\n",
    "## 5.3. Cross-entropy\n",
    "With softmax one should use the cross-entropy as cost function. It is the negative log probability of the right answer. It has really big gradient if the target answer is 1 and the output is almost 0.\n",
    "$$ C = - \\sum_j t_j \\log y_j $$\n",
    "\n",
    "where t is the target value.\n",
    "\n",
    "The derivate is: \n",
    "$$ \\frac{\\partial C}{\\partial z_i} = \\sum_{j} \\frac{\\partial C}{\\partial y_j} \\frac{\\partial y_j}{\\partial z_i} = y_i - t_i $$"
   ]
  },
  {
   "cell_type": "code",
   "execution_count": null,
   "metadata": {
    "collapsed": true
   },
   "outputs": [],
   "source": []
  }
 ],
 "metadata": {
  "kernelspec": {
   "display_name": "Python 2",
   "language": "python",
   "name": "python2"
  },
  "language_info": {
   "codemirror_mode": {
    "name": "ipython",
    "version": 2
   },
   "file_extension": ".py",
   "mimetype": "text/x-python",
   "name": "python",
   "nbconvert_exporter": "python",
   "pygments_lexer": "ipython2",
   "version": "2.7.10"
  }
 },
 "nbformat": 4,
 "nbformat_minor": 0
}
