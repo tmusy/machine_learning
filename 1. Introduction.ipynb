{
 "cells": [
  {
   "cell_type": "markdown",
   "metadata": {},
   "source": [
    "# 1. Introduction\n",
    "\n",
    "## 1.1. The machine learning approach\n",
    "Train the computer to solve a task by let it learn from a lots of examples. So instead of trying to find some specific commands and rules that cover the task, we let the machine find a way to do it on its own."
   ]
  },
  {
   "cell_type": "markdown",
   "metadata": {},
   "source": [
    "## 1.2. Standard example of machine learning\n",
    "\n",
    "### MNIST\n",
    "https://en.wikipedia.org/wiki/MNIST_database\n",
    "\n",
    "### ImageNet\n",
    "http://www.image-net.org/"
   ]
  },
  {
   "cell_type": "markdown",
   "metadata": {},
   "source": [
    "## 1.3. Three types of learning\n",
    "### Supervised learning\n",
    "### Reinforcement learning\n",
    "### Unsupervised learning\n",
    "internal representation, clustering"
   ]
  },
  {
   "cell_type": "code",
   "execution_count": null,
   "metadata": {
    "collapsed": true
   },
   "outputs": [],
   "source": []
  }
 ],
 "metadata": {
  "kernelspec": {
   "display_name": "Python 2",
   "language": "python",
   "name": "python2"
  },
  "language_info": {
   "codemirror_mode": {
    "name": "ipython",
    "version": 2
   },
   "file_extension": ".py",
   "mimetype": "text/x-python",
   "name": "python",
   "nbconvert_exporter": "python",
   "pygments_lexer": "ipython2",
   "version": "2.7.10"
  }
 },
 "nbformat": 4,
 "nbformat_minor": 0
}
